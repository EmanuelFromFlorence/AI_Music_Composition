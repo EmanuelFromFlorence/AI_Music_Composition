{
 "cells": [
  {
   "cell_type": "code",
   "execution_count": 2,
   "metadata": {},
   "outputs": [],
   "source": [
    "import sys\n",
    "import re \n",
    "import numpy as np \n",
    "import pandas as pd\n",
    "import music21\n",
    "from glob import glob\n",
    "import IPython\n",
    "from tqdm import tqdm\n",
    "import pickle\n",
    "from keras.utils import np_utils\n",
    "import play_midi as play\n",
    "from music21 import converter, instrument, note, chord, stream\n",
    "\n",
    "import os\n",
    "os.environ[\"CUDA_VISIBLE_DEVICES\"] = \"0\""
   ]
  },
  {
   "cell_type": "code",
   "execution_count": 3,
   "metadata": {
    "scrolled": true
   },
   "outputs": [
    {
     "data": {
      "text/plain": [
       "['midi/MidiShow小酒窝.mid',\n",
       " 'midi/MidiShow一千年以后.mid',\n",
       " 'midi/MidiShow江南.mid',\n",
       " 'midi/可惜没如果.mid',\n",
       " 'midi/MidiShow修炼爱情.mid']"
      ]
     },
     "execution_count": 3,
     "metadata": {},
     "output_type": "execute_result"
    }
   ],
   "source": [
    "songs = glob('midi/*.mid')\n",
    "songs"
   ]
  },
  {
   "cell_type": "code",
   "execution_count": null,
   "metadata": {},
   "outputs": [],
   "source": [
    "stream = converter.parse('midi/可惜没如果.mid')\n",
    "# 获取乐器\n",
    "print('parts:')\n",
    "parts = instrument.partitionByInstrument(stream)\n",
    "# 输出所有乐器\n",
    "for i in parts:\n",
    "    print(i)"
   ]
  },
  {
   "cell_type": "code",
   "execution_count": 6,
   "metadata": {},
   "outputs": [
    {
     "name": "stdout",
     "output_type": "stream",
     "text": [
      "0 <music21.stream.Part Piano>\n"
     ]
    }
   ],
   "source": [
    "for index, value in enumerate(parts):\n",
    "    if str(value) == \"<music21.stream.Part Piano>\":\n",
    "        break\n",
    "print(index, value)"
   ]
  },
  {
   "cell_type": "code",
   "execution_count": 34,
   "metadata": {
    "scrolled": true
   },
   "outputs": [
    {
     "name": "stderr",
     "output_type": "stream",
     "text": [
      "100%|██████████| 4/4 [00:01<00:00,  3.10it/s]"
     ]
    },
    {
     "name": "stdout",
     "output_type": "stream",
     "text": [
      "notes: ['E4', 'C3', 'G3', 'C4', 'E4', 'F4', 'E4', 'D4', 'B2', 'G3', 'B3', 'D4', 'G4', 'D4', 'C4', 'A2', 'E3', 'A3', 'C4', 'A4', 'G4', 'E4', 'F2', 'C3', 'F3', 'F4', 'E4', 'D4', 'G2', 'D3', 'G3', 'E4', 'C3', 'G3', 'C4', 'E4', 'F4', 'G4', 'E4', 'G4', 'G2', 'D3', 'G3', 'G4', 'D5', 'B4', 'C5', 'A2', 'E3', 'A3', 'E3', 'C5', 'G2', 'B4', 'D3', 'A4', 'G3', 'B4', 'D3', 'C5', 'F2', 'C3', 'F3', 'B4', 'C3', 'C5', 'C2', 'G2', 'C3', 'G2', 'C5', 'A2', 'B4', 'E3', 'C5', 'A3', 'B4', 'C5', 'E4', 'G4', 'G2', 'D3', 'G3', 'D3', 'B3', 'D3', 'A4', 'G3', 'B4', 'D3', 'C5', 'F2', 'B4', 'C3', 'C5', 'F3', 'B4', 'C3', 'C5', 'A3', 'C3', 'D5', 'F3', 'E5', 'C3', 'C3', 'G3', 'C4', 'G3', 'E4', 'G3', 'A4', 'C4', 'B4', 'G3', 'C5', 'A2', 'B4', 'E3', 'C5', 'A3', 'B4', 'C5', 'E5', 'B4', 'G2', 'A4', 'D3', 'B4', 'G3', 'A4', 'B4', 'G4', 'C5', 'F2', 'C3', 'F3', 'C3', 'E5', 'A3', 'C3', 'F5', 'F3', 'E5', 'C3', 'D5', 'G2', 'D3', 'G3', 'A3', 'B3', '7', '0', '2', 'E5', 'C3', 'G3', 'C5', 'C4', 'G3', 'G4', 'E4', 'G3', 'G4', 'C4', 'E5', 'G3', '2', 'G2', '4', 'D3', '2', 'G3', 'B4', 'D3', 'G4', 'B3', 'G4', 'D3', 'A4', 'G3', 'B4', 'D3', 'C5', 'A2', 'E3', 'A4', 'A3', 'E3', 'E4', 'C4', 'E3', 'E4', 'A3', 'C5', 'E3', 'B4', 'E2', 'C5', 'B2', 'B4', 'E3', 'D5', 'B2', 'B4', 'G3', 'A4', 'G4', 'B2', 'E3', 'B2', '9', 'F2', 'C3', '11', 'F3', '0', 'C3', '2', 'G2', 'D3', '4', 'G3', '5', 'D3', '4', 'E2', '5', 'B2', '4', 'E3', '2', 'B2', '0', 'A2', 'E3', 'A3', 'G4', 'E3', 'G4', 'F2', 'F4', 'C3', 'F4', 'F3', 'C5', 'C3', 'C5', 'A3', 'E5', 'C3', 'E5', 'F3', 'C5', 'C3', 'D5', 'G2', 'D3', 'G3', 'D3', 'B3', 'G4', 'D3', 'C5', 'G3', 'D5', 'D3', 'E5', 'C3', 'G3', 'C5', 'C4', 'G3', 'G4', 'E4', 'G3', 'G4', 'C4', 'E5', 'G3', '2', 'G2', '4', 'D3', '2', 'G3', 'B4', 'D3', 'G4', 'B3', 'G4', 'D3', 'A4', 'G3', 'B4', 'D3', '0', 'A2', 'E3', 'A4', 'A3', 'E3', 'E4', 'C4', 'E3', 'E4', 'A3', 'C5', 'E3', '11', 'E2', '0', 'B2', '11', 'E3', 'D5', 'B2', 'B4', 'G3', 'A4', 'G4', 'B2', 'E3', 'B2', '9', 'F2', 'C3', '11', 'F3', '0', 'C3', '2', 'G2', 'D3', '4', 'G3', '5', 'D3', '7', 'E2', '5', 'B2', '4', 'E3', '2', 'B2', '0', 'A2', 'E3', 'A3', 'E3', '2', 'F2', '0', 'C3', '2', 'F3', '9', 'C3', '0', 'G2', 'D3', '2', 'G3', 'D3', '0', 'C3', 'G3', 'C4', 'G3', 'E4', 'G3', 'C4', 'G3', '2', 'F2', '0', '2', '9', '0', 'G2', '11', '0', 'C3', 'G3', 'C4', 'D4', 'E4', 'G4', 'D4', 'G4', 'A4', 'B-4', 'F5', 'D5', 'B-4', 'G4', 'E-4', 'F4', 'G4', 'D5', 'F4', 'C4', 'F4', 'G4', 'A4', 'B-4', 'B-4', 'A4', 'G4', 'D4', 'G4', 'A4', 'B-4', 'C5', 'D5', 'D5', 'G4', 'D4', 'G4', 'A4', 'B-4', 'F5', 'D5', 'B-4', 'G4', 'E-4', 'F4', 'G4', 'D5', 'F4', 'C4', 'F4', 'G4', 'A4', 'B-4', 'B-4', 'A4', 'G4', 'D4', 'G4', 'A4', 'B-4', 'C5', 'D5', 'D5', 'G4', 'D4', 'G4', 'A4', 'B-4', 'F5', 'D5', 'B-4', 'G4', 'E-4', 'F4', 'G4', 'D5', 'F4', 'C4', 'F4', 'G4', 'A4', 'B-4', 'B-4', 'A4', 'G4', 'D4', 'G4', 'A4', 'B-4', 'C5', 'D5', 'D5', 'G4', 'D4', 'G4', 'A4', 'B-4', 'F5', 'D5', 'B-4', 'G4', 'E-4', 'F4', 'G4', 'D5', 'F4', 'C4', 'F4', 'G4', 'A4', 'B-4', 'B-4', 'A4', 'G4', 'D4', 'G4', 'A4', 'B-4', 'C5', 'D5', 'D5', 'G4', 'D4', 'G4', 'A4', 'B-4', 'F5', 'D5', 'B-4', 'G4', 'E-4', 'F4', 'G4', 'D5', 'F4', 'C4', 'F4', 'G4', 'A4', 'B-4', 'B-4', 'A4', 'G4', 'D4', 'G4', 'A4', 'B-4', 'C5', 'D5', 'D5', '10.2', 'D4', 'B-3', '10.2', '9.0', '9.0', '9.0', '10.2', '10.2', '10.2', '9.2', '9.2', '9.2', '10.3', '10.3', '10.3', '9.2', '9.2', '9.2', '7.0', '7.0', 'C4', 'G3', '9.0', '0.5', '0.5', '0.5', '0.5', '0.5', '0.5', '0.5', '10.2', 'D4', 'B-3', '10.2', '9.0', '9.0', '9.0', '10.2', '10.2', '10.2', '9.2', '9.2', '9.2', '10.3', '10.3', '10.3', '9.2', '9.2', '9.2', '7.0', '7.0', 'C4', 'G3', '9.0', '0.5', '0.5', '0.5', '0.5', '0.5', '0.5', '0.5', '10.2.5', 'G4', 'B-3', 'G#4', 'C4', 'G4', 'B-3', 'F4', '10.2', 'D3', '10.2', '10.2', 'G4', '10.2', 'E-4', 'C3', '8.0', '8.0', '8.0', 'G4', 'B-3', 'G#4', 'G4', 'F4', 'D3', '10.2', '10.2', '10.2', 'G4', '10.2', '3.7', 'C3', '3.8', '3.8', '3.8', 'D3', '10.2', '10.2', 'G4', '10.2', 'G4', 'G4', 'B-4', '10.2', 'C5', 'C5', 'E-3', '0.3', 'B-4', 'G#4', '0.3', '0.3', '0.3', 'E-3', '10.2', '10.2', 'G4', '10.2', 'G4', 'G4', 'B-4', '10.2', 'C5', 'C5', 'E-3', '0.3', 'B-4', 'G#4', '0.3', 'G#3', 'E-4', 'C5', 'D5', 'C3', 'E-5', 'G3', 'E-5', '0.3', 'G4', 'G3', 'D5', 'B-2', 'C5', 'G3', 'C5', '10.2', 'B-4', 'G3', 'G#4', 'B-4', 'G#4', 'G#2', 'C3', 'G#3', 'E-3', '10.2', 'E-3', 'G#3', 'B-3', 'C5', 'D5', 'D5', 'C3', 'E-5', 'G3', 'E-5', '0.3', 'F5', 'G3', 'D5', 'G2', 'C5', 'G3', 'C5', '10.2', 'B-4', 'G3', 'G#4', 'B-4', 'G#4', 'F2', 'C3', 'G#3', 'E-3', 'G3', 'E-3', 'G#3', 'B-3', 'G4', 'D3', 'F4', 'G4', 'B-2', 'F4', 'F3', 'C4', 'G#3', 'C4', 'E-4', '10.2.5', 'F5', 'G5', 'F5', 'E-5', 'C5', 'G#2', 'F5', 'E-3', 'F5', '8.0', 'E-3', 'G#2', 'F3', 'F5', '10.2', 'G5', 'F5', 'F3', 'E-5', 'B-4', 'G2', 'F5', 'D3', 'F5', '7.10', 'D5', 'D3', 'E-5', 'C3', 'G3', '0.3', 'E-5', 'G3', 'F5', 'G5', 'F2', 'G#5', 'F3', 'G#5', '8.0', 'C5', 'F3', 'E-5', 'B-2', 'D5', 'F3', 'C5', '10.2', 'D5', 'F3', 'C5', 'E-3', 'B-4', 'G3', 'E-4', 'G4', '1.3.7', 'B-3', 'F5', 'G3', 'G5', 'F5', 'E-3', 'E-5', 'G#2', 'C5', 'E-3', 'F5', '8.0', 'G5', 'F5', 'E-5', 'E-5', 'G#2', 'C5', 'F3', 'F5', '10.2', 'G5', 'F5', 'E-5', 'E-5', 'G2', 'B-4', 'D3', 'F5', '7.10', 'D5', 'E-5', 'C3', 'G3', '0.3', 'B-4', 'G4', 'G#4', 'F2', 'E-5', 'C3', 'E-5', 'G#3', 'C5', 'C3', 'D5', 'E-5', 'G#2', 'D5', 'E-3', 'E-5', '8.0', 'F5', 'F5', 'B-2', 'F3', 'D4', 'E-4', 'D4', 'C4', 'F3', 'B-3', 'D4', 'F5', '10.2', 'G5', 'F5', 'B-2', 'E-5', 'C5', 'G#2', 'F5', 'E-3', 'F5', '8.0', 'E-3', 'G#2', 'F3', 'F5', '10.2', 'G5', 'F5', 'F3', 'E-5', 'B-4', 'G2', 'F5', 'D3', 'F5', '7.10', 'D5', 'D3', 'E-5', 'C3', 'G3', '0.3', 'E-5', 'G3', 'F5', 'G5', 'F2', 'G#5', 'F3', 'G#5', '8.0', 'C5', 'F3', 'E-5', 'B-2', 'D5', 'F3', 'C5', '10.2', 'D5', 'F3', 'D5', 'E-3', 'C5', 'B-4', 'B-3', 'E-4', 'G4', '5.8', 'F5', '7.10', 'G5', 'F5', 'E-5', 'E-5', 'G#2', 'C5', 'E-3', 'F5', '8.0', 'G5', 'F5', 'E-3', 'E-5', 'E-5', 'G#2', 'C5', 'F3', 'F5', '10.2', 'G5', 'F5', 'F3', 'E-5', 'E-5', 'G2', 'B-4', 'D3', 'B-5', '10.2', 'D5', 'D3', 'E-5', 'C3', 'G3', '0.3', 'B-4', 'G3', 'G4', 'G#4', 'F2', 'E-5', 'C3', 'E-5', '5.8', 'G5', 'C3', 'G#5', 'G5', 'B-2', 'F5', 'F3', 'E-5', '10.2', 'D5', 'B-2', 'E-5', 'G4', 'G3', 'B-4', 'G#4', '5.8', 'G4', '3.7.10', 'E-3', 'D4', 'B-3', 'D4', 'B-3', 'G4', 'D4', 'G4', 'G4', 'B-3', 'B-4', 'D4', 'C5', 'B-3', 'C5', 'E-4', 'E-3', 'B-4', 'G#4', 'G#3', 'E-4', 'G#3', 'E-4', 'G#3', 'E-4', 'G#3', 'E-3', 'D4', 'B-3', 'D4', 'B-3', 'G4', 'D4', 'G4', 'G4', 'B-3', 'B-4', 'D4', 'E-4', 'B-3', 'C5', 'E-3', 'E-4', 'B-4', 'G#4', 'G#3', 'E-4', 'G#3', 'G#3', 'B-3', 'E-4', 'C5', 'D5', 'D5', 'C3', 'E-5', 'G3', 'E-5', '0.3', 'G4', 'G3', 'D5', 'G2', 'C5', 'G3', 'C5', '10.2', 'B-4', 'G3', 'G#4', 'B-4', 'G#4', 'F2', 'C3', 'F3', 'G#3', 'E-4', 'G#3', 'B-3', '0.3', 'C5', 'G#3', 'D5', 'D5', 'C3', 'E-5', 'G3', 'E-5', '0.3', 'F5', 'G3', 'E-5', 'D5', 'G2', 'C5', 'G3', 'C5', '10.2', 'B-4', 'D3', 'G5', 'F2', 'C3', 'F3', 'G#3', 'C4', 'G#3', 'C4', '3.8', 'C5', 'D5', 'E-5', 'F5', 'B-2', 'F3', 'D5', 'B-3', 'C5', 'D5', 'D4', 'E-5', 'D5', 'F4', 'F5', 'G5', 'F5', 'E-5', 'C5', 'G#2', 'F5', 'E-3', 'F5', '8.0', 'E-3', 'G#2', 'F3', 'F5', '10.2', 'G5', 'F5', 'F3', 'E-5', 'B-4', 'G2', 'F5', 'D3', 'F5', '7.10', 'D5', 'D3', 'E-5', 'C3', 'G3', '0.3', 'E-5', 'G3', 'F5', 'G5', 'F2', 'G#5', 'F3', 'G#5', '8.0', 'C5', 'F3', 'E-5', 'B-2', 'D5', 'F3', 'C5', '10.2', 'F5', 'F3', 'D5', 'E-3', 'C5', 'B-4', 'G3', 'E-4', 'G4', '5.8', 'F5', '7.10', 'G5', 'F5', 'E-5', 'G#2', 'C5', 'E-3', 'F5', '8.0', 'G5', 'F5', 'E-3', 'E-5', 'E-5', 'G#2', 'C5', 'F3', 'F5', '10.2', 'G5', 'F5', 'F3', 'E-5', 'E-5', 'G2', 'B-4', 'D3', 'F5', '7.10', 'D5', 'D3', 'E-5', 'C3', 'G3', '0.3', 'B-4', 'G3', 'G4', 'G#4', 'F2', 'E-5', 'C3', 'E-5', '5.8', 'C5', 'C3', 'D5', 'E-5', 'G#2', 'D5', 'E-3', 'E-5', '8.0', 'G5', 'E-3', 'G#5', 'F5', 'B-2', 'F3', 'D4', 'E-4', 'D4', 'C4', 'F3', 'B-3', 'D4', 'F5', '10.2', 'G5', 'F5', 'B-2', 'E-5', 'C5', 'G#2', 'F5', 'E-3', 'F5', '8.0', 'E-3', 'G#2', 'F3', 'F5', '10.2', 'G5', 'F5', 'F3', 'E-5', 'B-4', 'G2', 'F5', 'D3', 'F5', '7.10', 'D5', 'D3', 'E-5', 'C3', 'G3', '0.3', 'E-5', 'G3', 'F5', 'G5', 'F2', 'G#5', 'C3', 'G#5', '5.8', 'C5', 'C3', 'E-5', 'B-2', 'D5', 'F3', 'C5', '10.2', 'D5', 'F3', 'E-3', 'C5', 'B-4', 'B-3', 'E-4', 'G4', '5.8', 'F5', '7.10', 'G5', 'F5', 'E-5', 'E-5', 'G#2', 'C5', 'E-3', 'F5', '8.0', 'G5', 'F5', 'E-3', 'E-5', 'E-5', 'G#2', 'C5', 'F3', 'F5', 'B-3', 'D4', 'G5', 'F5', 'F3', 'E-5', 'E-5', 'G2', 'B-4', 'D3', 'B-5', '10.2', 'D5', 'D3', 'E-5', '3.7', '5.8', 'B-4', '7.10', 'G4', 'G#4', 'F2', 'E-5', 'C3', 'E-5', '5.8', 'G5', 'C3', 'G#5', 'G5', 'B-2', 'F5', 'F3', 'E-5', '10.2', 'D5', 'F5', 'E-2', 'E-5', 'B-2', 'E-3', 'G3', 'B-3', 'E-4', 'G4', '2.5', '0.3', 'G5', 'F2', 'G5', 'C3', 'G#3', 'F3', 'C4', 'F3', 'G#3', 'C5', 'D5', '3.7', '0.3.7', '0.3.7', '0.3.7', '0.3.7', '2.5', '10.2.5', '10.2.5', '7.10', '7.10.2', '7.10.2', '8.0', '0.5', '0.5', '5.8', '0.5', '7.10', '0.5', '8.0', '0.5', '10.2', '0.5', '0.3', '0.5', '0.5', 'G#2', 'D5', 'E-5', '0.3', 'E-5', '0.3', 'C5', '0.3', 'D5', 'E-5', 'B-2', 'F5', '2.5', '2.5', '2.5', 'D5', 'B2', 'E-5', 'F5', '2.7', 'F5', '2.7', 'D5', '2.7', 'E-5', 'F5', 'C3', 'G5', '3.7', '3.7', '3.7', 'G#5', 'F2', 'G5', '8.0.3', 'E-5', '8.0.3', 'G#5', '8.0.3', 'G5', 'G#2', 'E-5', '8.0.3', 'G#5', '8.0.3', 'G5', '8.0.3', 'F5', '10.2.5', '10', 'F#5', '11.3.6', '11.3.6', '11.3.6', '11.3.6', '11.3.6', 'F#5', 'G#5', 'F#5', 'E5', 'C#5', 'A2', 'E3', 'F#5', 'A3', 'F#5', 'C#4', 'E4', 'C#4', 'A3', 'E3', 'B2', 'F#3', 'B3', 'E-4', 'F#5', 'F#4', 'G#5', 'E-4', 'F#5', 'B3', 'E5', 'F#3', 'B4', 'G#2', 'E-3', 'F#5', 'G#3', 'F#5', 'B3', 'E-4', 'B3', 'E-5', 'G#3', 'E5', 'E-3', 'F#5', 'E5', 'C#3', 'E3', 'G#3', 'E4', 'G#4', 'E5', 'F#5', 'G#5', 'F#2', 'A2', 'A5', 'C#3', 'A5', 'F#3', 'A3', 'C#5', 'F#3', 'C#3', 'E5', 'B2', 'E-3', 'E-5', 'F#3', 'C#5', 'A3', 'E-4', 'A3', 'F#5', 'F#3', 'E-5', 'E2', 'C#5', 'B2', 'B4', 'E3', 'G#3', 'E4', 'B3', 'G#3', 'E2', 'B2', 'F#3', 'B2', 'F#5', 'F#2', 'G#5', 'C#3', 'F#5', 'F#3', 'E5', 'C#3', 'E5', 'A2', 'E3', 'C#5', 'A3', 'C#4', 'F#5', 'E4', 'G#5', 'C#4', 'F#5', 'A3', 'E5', 'E3', 'A2', 'C#5', 'F#3', 'B3', 'E-4', 'F#5', 'F#4', 'G#5', 'E-4', 'F#5', 'B3', 'E5', 'F#3', 'E5', 'G#2', 'E-3', 'B4', 'G#3', 'B5', 'B3', 'E-4', 'B3', 'E-5', 'G#3', 'E5', 'E-3', 'C#3', 'E3', 'G#3', 'B3', 'B2', 'E-3', 'B4', 'G#3', 'G#4', 'B3', 'A4', 'A2', 'E3', 'E5', 'A3', 'E5', 'C#4', 'E4', 'C#4', 'G#5', 'A3', 'A5', 'E3', 'G#5', 'B2', 'E-3', 'F#5', 'F#3', 'E5', 'B3', 'E-4', 'E-5', 'F#5', 'E5', '8.11', 'A2', 'C#3', 'E3', 'C#3', 'G#2', 'B2', 'E3', 'B2', 'F#5', 'F#2', 'G#5', 'A2', 'F#5', 'C#3', 'E5', 'E3', 'E5', 'A2', 'C#5', 'E3', 'A3', 'C#4', 'F#5', 'E4', 'G#5', 'F#5', 'E5', 'E5', 'A2', 'C#5', 'F#3', 'B3', 'E-4', 'F#5', 'F#4', 'G#5', 'F#5', 'E5', 'E5', 'G#2', 'E-3', 'B4', 'G#3', 'B5', 'B3', 'E-4', 'E-5', 'G#5', 'F#5', 'E5', 'C#3', 'E3', 'G#3', 'B3', 'E4', 'B4', 'G#4', 'A4', 'A2', 'C#3', 'E5', 'F#3', 'E5', 'A3', 'C#4', 'G#5', 'A5', 'G#5', 'B2', 'F#5', 'F#3', 'E5', 'A3', 'B3', 'F#4', 'E-5', 'E5', 'G#4', 'A4', 'G#4', 'F#4', '11.3', 'E-3', '11.3', '11.3', 'G#4', '11.3', 'E4', 'C#3', '9.1', '9.1', '9.1', 'G#4', 'B3', 'A4', 'G#4', 'F#4', '11.3', 'E-3', '11.3', '11.3', 'B4', '11.3', 'E4', 'E3', 'C#4', 'E4', 'A4', 'G#5', 'C#5', 'F#5', 'B4', '4.6', 'E3', 'G#5', 'B3']\n"
     ]
    },
    {
     "name": "stderr",
     "output_type": "stream",
     "text": [
      "\n"
     ]
    }
   ],
   "source": [
    "from tqdm import tqdm\n",
    "\n",
    "notes = []\n",
    "for file in tqdm(songs):\n",
    "    midi = converter.parse(file)  # 将.mid文件转化为流对象\n",
    "    notes_to_parse = None\n",
    "    try:\n",
    "        # Given a single stream, partition into a part for each unique instrument\n",
    "        parts = instrument.partitionByInstrument(midi)\n",
    "    except:\n",
    "        print(\"乐器分配错误!\")\n",
    "\n",
    "    if parts: # 如果parts部分有乐器\n",
    "        notes_to_parse = parts.parts[0].recurse()\n",
    "    else:\n",
    "        notes_to_parse = midi.flat.notes\n",
    "        print(\"parts == None\")\n",
    "\n",
    "    for element in notes_to_parse:\n",
    "        if isinstance(element, note.Note):\n",
    "            notes.append(str(element.pitch))  # 如果element是一个音符，提取其音高；音符形式如：G4、F#4\n",
    "        elif(isinstance(element, chord.Chord)):\n",
    "            # 如果是一个和弦, 将和弦的正常形式(整数list)添加到音符的list\n",
    "            notes.append('.'.join(str(n) for n in element.normalOrder))   # 和弦形式如：'4.5.7'、'7.11'\n",
    "\n",
    "with open('notes.pkl', 'wb') as filepath:  # 保存到文件中\n",
    "    pickle.dump(notes, filepath)\n",
    "    \n",
    "print(\"notes:\", notes)"
   ]
  },
  {
   "cell_type": "code",
   "execution_count": 4,
   "metadata": {},
   "outputs": [],
   "source": [
    "sequence_length = 100\n",
    "\n",
    "# 从音符列表中提取独特的音高并排序\n",
    "pitchnames = sorted(set(item for item in notes))   # ['0', '0.3', '0.3.7', ... ]\n",
    "# 对独特的音高建立整数编码\n",
    "note_to_int = dict((note, number) for number, note in enumerate(pitchnames))  # {'0': 0, '0.3': 1, '0.3.7': 2, ... ]"
   ]
  },
  {
   "cell_type": "code",
   "execution_count": 5,
   "metadata": {},
   "outputs": [
    {
     "data": {
      "text/plain": [
       "79"
      ]
     },
     "execution_count": 5,
     "metadata": {},
     "output_type": "execute_result"
    }
   ],
   "source": [
    "len(pitchnames)"
   ]
  },
  {
   "cell_type": "code",
   "execution_count": 6,
   "metadata": {},
   "outputs": [],
   "source": [
    "# 创造输入和对应的输出序列\n",
    "network_input = []\n",
    "network_output = []\n",
    "for i in range(0, len(notes) - sequence_length, 1):\n",
    "    sequence_in = notes[i: i + sequence_length]\n",
    "    sequence_out = notes[i + sequence_length]\n",
    "    network_input.append([note_to_int[char] for char in sequence_in])  # 转换为音符编码\n",
    "    network_output.append(note_to_int[sequence_out])"
   ]
  },
  {
   "cell_type": "code",
   "execution_count": 7,
   "metadata": {},
   "outputs": [
    {
     "name": "stdout",
     "output_type": "stream",
     "text": [
      "network_input shape (list): (1630, 100)\n",
      "network_output: 1630\n"
     ]
    }
   ],
   "source": [
    "print(\"network_input shape (list):\", (len(network_input), len(network_input[0])))\n",
    "print(\"network_output:\", len(network_output))"
   ]
  },
  {
   "cell_type": "code",
   "execution_count": 8,
   "metadata": {},
   "outputs": [
    {
     "name": "stdout",
     "output_type": "stream",
     "text": [
      "unique notes length: 79\n"
     ]
    }
   ],
   "source": [
    "n_patterns = len(network_input)  # 632\n",
    "network_input = np.reshape(network_input, (n_patterns, sequence_length, 1))  # 将输入数据转化为LSTM输入格式, (632, 100, 1)\n",
    "\n",
    "n_vocab = len(set(notes))\n",
    "print('unique notes length:', n_vocab)\n",
    "network_input = network_input / float(n_vocab)  # 归一化输入\n",
    "\n",
    "# one hot encode the output vectors\n",
    "network_output = np_utils.to_categorical(network_output)  # 输出进行"
   ]
  },
  {
   "cell_type": "code",
   "execution_count": 9,
   "metadata": {},
   "outputs": [
    {
     "data": {
      "text/plain": [
       "(1630, 79)"
      ]
     },
     "execution_count": 9,
     "metadata": {},
     "output_type": "execute_result"
    }
   ],
   "source": [
    "network_output.shape"
   ]
  },
  {
   "cell_type": "code",
   "execution_count": 35,
   "metadata": {},
   "outputs": [],
   "source": [
    "from keras.models import Sequential\n",
    "from keras.layers import Activation, Dense, LSTM, Dropout, Flatten\n",
    "\n",
    "model = Sequential()\n",
    "model.add(LSTM(128, input_shape=network_input.shape[1:], return_sequences=True))\n",
    "model.add(Dropout(0.2))\n",
    "model.add(LSTM(128, return_sequences=True))\n",
    "model.add(Flatten())\n",
    "model.add(Dense(256))\n",
    "model.add(Dropout(0.3))\n",
    "model.add(Dense(n_vocab))\n",
    "model.add(Activation('softmax'))\n",
    "model.compile(loss='categorical_crossentropy', optimizer='adam')\n",
    "\n",
    "\"\"\"\n",
    "另一个模型\n",
    "    model = Sequential()\n",
    "    model.add(LSTM(\n",
    "        512,\n",
    "        input_shape=(network_input.shape[1], network_input.shape[2]),\n",
    "        return_sequences=True\n",
    "    ))\n",
    "    model.add(Dropout(0.3))\n",
    "    model.add(LSTM(512, return_sequences=True))\n",
    "    model.add(Dropout(0.3))\n",
    "    model.add(LSTM(512))\n",
    "    model.add(Dense(256))\n",
    "    model.add(Dropout(0.3))\n",
    "    model.add(Dense(n_vocab))\n",
    "    model.add(Activation('softmax'))\n",
    "    model.compile(loss='categorical_crossentropy', optimizer='rmsprop')\n",
    "\"\"\""
   ]
  },
  {
   "cell_type": "code",
   "execution_count": 64,
   "metadata": {
    "scrolled": true
   },
   "outputs": [
    {
     "name": "stdout",
     "output_type": "stream",
     "text": [
      "Epoch 1/100\n",
      "1630/1630 [==============================] - 14s 8ms/step - loss: 0.0310\n",
      "Epoch 2/100\n",
      "1630/1630 [==============================] - 17s 11ms/step - loss: 0.0363\n",
      "Epoch 3/100\n",
      "1630/1630 [==============================] - 17s 10ms/step - loss: 0.0411\n",
      "Epoch 4/100\n",
      "1630/1630 [==============================] - 17s 11ms/step - loss: 0.0440\n",
      "Epoch 5/100\n",
      "1630/1630 [==============================] - 17s 10ms/step - loss: 0.0430\n",
      "Epoch 6/100\n",
      "1630/1630 [==============================] - 17s 11ms/step - loss: 0.0588\n",
      "Epoch 7/100\n",
      "1630/1630 [==============================] - 17s 10ms/step - loss: 0.0459\n",
      "Epoch 8/100\n",
      "1630/1630 [==============================] - 17s 11ms/step - loss: 0.0381\n",
      "Epoch 9/100\n",
      "1630/1630 [==============================] - 17s 11ms/step - loss: 0.0751\n",
      "Epoch 10/100\n",
      "1630/1630 [==============================] - 17s 10ms/step - loss: 0.0529\n",
      "Epoch 11/100\n",
      "1630/1630 [==============================] - 17s 10ms/step - loss: 0.0396\n",
      "Epoch 12/100\n",
      "1630/1630 [==============================] - 17s 10ms/step - loss: 0.0557\n",
      "Epoch 13/100\n",
      "1630/1630 [==============================] - 17s 10ms/step - loss: 0.0323\n",
      "Epoch 14/100\n",
      "1630/1630 [==============================] - 17s 10ms/step - loss: 0.0284\n",
      "Epoch 15/100\n",
      "1630/1630 [==============================] - 17s 10ms/step - loss: 0.0251\n",
      "Epoch 16/100\n",
      "1630/1630 [==============================] - 17s 10ms/step - loss: 0.0230\n",
      "Epoch 17/100\n",
      "1630/1630 [==============================] - 17s 10ms/step - loss: 0.0207\n",
      "Epoch 18/100\n",
      "1630/1630 [==============================] - 17s 10ms/step - loss: 0.0115\n",
      "Epoch 19/100\n",
      "1630/1630 [==============================] - 17s 10ms/step - loss: 0.0161\n",
      "Epoch 20/100\n",
      "1630/1630 [==============================] - 17s 10ms/step - loss: 0.0540\n",
      "Epoch 21/100\n",
      "1630/1630 [==============================] - 17s 10ms/step - loss: 0.0597\n",
      "Epoch 22/100\n",
      "1630/1630 [==============================] - 17s 11ms/step - loss: 0.0346\n",
      "Epoch 23/100\n",
      "1630/1630 [==============================] - 17s 10ms/step - loss: 0.0123\n",
      "Epoch 24/100\n",
      "1630/1630 [==============================] - 17s 11ms/step - loss: 0.0179\n",
      "Epoch 25/100\n",
      "1630/1630 [==============================] - 17s 10ms/step - loss: 0.0366\n",
      "Epoch 26/100\n",
      "1630/1630 [==============================] - 17s 11ms/step - loss: 0.0357\n",
      "Epoch 27/100\n",
      "1630/1630 [==============================] - 17s 10ms/step - loss: 0.0429\n",
      "Epoch 28/100\n",
      "1630/1630 [==============================] - 17s 11ms/step - loss: 0.0417\n",
      "Epoch 29/100\n",
      "1630/1630 [==============================] - 17s 10ms/step - loss: 0.0411\n",
      "Epoch 30/100\n",
      "1630/1630 [==============================] - 17s 11ms/step - loss: 0.0775\n",
      "Epoch 31/100\n",
      "1630/1630 [==============================] - 17s 10ms/step - loss: 0.0227\n",
      "Epoch 32/100\n",
      "1630/1630 [==============================] - 17s 10ms/step - loss: 0.0259\n",
      "Epoch 33/100\n",
      "1630/1630 [==============================] - 17s 10ms/step - loss: 0.0350\n",
      "Epoch 34/100\n",
      "1630/1630 [==============================] - 17s 11ms/step - loss: 0.0208\n",
      "Epoch 35/100\n",
      "1630/1630 [==============================] - 17s 11ms/step - loss: 0.0477\n",
      "Epoch 36/100\n",
      "1630/1630 [==============================] - 17s 11ms/step - loss: 0.0433\n",
      "Epoch 37/100\n",
      "1630/1630 [==============================] - 18s 11ms/step - loss: 0.0202\n",
      "Epoch 38/100\n",
      "1630/1630 [==============================] - 18s 11ms/step - loss: 0.0285\n",
      "Epoch 39/100\n",
      "1630/1630 [==============================] - 18s 11ms/step - loss: 0.0217\n",
      "Epoch 40/100\n",
      "1630/1630 [==============================] - 18s 11ms/step - loss: 0.0329\n",
      "Epoch 41/100\n",
      "1630/1630 [==============================] - 19s 12ms/step - loss: 0.0203\n",
      "Epoch 42/100\n",
      "1630/1630 [==============================] - 18s 11ms/step - loss: 0.0317\n",
      "Epoch 43/100\n",
      "1630/1630 [==============================] - 18s 11ms/step - loss: 0.0170\n",
      "Epoch 44/100\n",
      "1630/1630 [==============================] - 19s 11ms/step - loss: 0.0213\n",
      "Epoch 45/100\n",
      "1630/1630 [==============================] - 19s 11ms/step - loss: 0.0450\n",
      "Epoch 46/100\n",
      "1630/1630 [==============================] - 19s 12ms/step - loss: 0.0433\n",
      "Epoch 47/100\n",
      "1630/1630 [==============================] - 19s 12ms/step - loss: 0.0599\n",
      "Epoch 48/100\n",
      "1630/1630 [==============================] - 19s 12ms/step - loss: 0.0389\n",
      "Epoch 49/100\n",
      "1630/1630 [==============================] - 19s 12ms/step - loss: 0.0187\n",
      "Epoch 50/100\n",
      "1630/1630 [==============================] - 19s 12ms/step - loss: 0.0174\n",
      "Epoch 51/100\n",
      "1630/1630 [==============================] - 19s 11ms/step - loss: 0.0386\n",
      "Epoch 52/100\n",
      "1630/1630 [==============================] - 18s 11ms/step - loss: 0.0494\n",
      "Epoch 53/100\n",
      "1630/1630 [==============================] - 18s 11ms/step - loss: 0.0391\n",
      "Epoch 54/100\n",
      "1630/1630 [==============================] - 18s 11ms/step - loss: 0.0480\n",
      "Epoch 55/100\n",
      "1630/1630 [==============================] - 18s 11ms/step - loss: 0.0389\n",
      "Epoch 56/100\n",
      "1630/1630 [==============================] - 19s 12ms/step - loss: 0.0537\n",
      "Epoch 57/100\n",
      "1630/1630 [==============================] - 19s 12ms/step - loss: 0.0412\n",
      "Epoch 58/100\n",
      "1630/1630 [==============================] - 19s 12ms/step - loss: 0.0460\n",
      "Epoch 59/100\n",
      "1630/1630 [==============================] - 18s 11ms/step - loss: 0.0790\n",
      "Epoch 60/100\n",
      "1630/1630 [==============================] - 18s 11ms/step - loss: 0.0449\n",
      "Epoch 61/100\n",
      "1630/1630 [==============================] - 18s 11ms/step - loss: 0.0365\n",
      "Epoch 62/100\n",
      "1630/1630 [==============================] - 18s 11ms/step - loss: 0.0246\n",
      "Epoch 63/100\n",
      "1630/1630 [==============================] - 18s 11ms/step - loss: 0.0193\n",
      "Epoch 64/100\n",
      "1630/1630 [==============================] - 18s 11ms/step - loss: 0.0194\n",
      "Epoch 65/100\n",
      "1630/1630 [==============================] - 18s 11ms/step - loss: 0.0193\n",
      "Epoch 66/100\n",
      "1630/1630 [==============================] - 18s 11ms/step - loss: 0.0372\n",
      "Epoch 67/100\n",
      "1630/1630 [==============================] - 19s 12ms/step - loss: 0.0219\n",
      "Epoch 68/100\n",
      "1630/1630 [==============================] - 19s 11ms/step - loss: 0.0178\n",
      "Epoch 69/100\n",
      "1630/1630 [==============================] - 18s 11ms/step - loss: 0.0407\n",
      "Epoch 70/100\n",
      "1630/1630 [==============================] - 19s 12ms/step - loss: 0.0601\n",
      "Epoch 71/100\n",
      "1630/1630 [==============================] - 19s 12ms/step - loss: 0.0310\n",
      "Epoch 72/100\n",
      "1630/1630 [==============================] - 19s 12ms/step - loss: 0.0414\n",
      "Epoch 73/100\n",
      "1630/1630 [==============================] - 19s 12ms/step - loss: 0.0184\n",
      "Epoch 74/100\n",
      "1630/1630 [==============================] - 19s 12ms/step - loss: 0.0463\n",
      "Epoch 75/100\n",
      "1630/1630 [==============================] - 18s 11ms/step - loss: 0.0243\n",
      "Epoch 76/100\n",
      "1630/1630 [==============================] - 19s 12ms/step - loss: 0.0237\n",
      "Epoch 77/100\n",
      "1630/1630 [==============================] - 18s 11ms/step - loss: 0.0283\n",
      "Epoch 78/100\n",
      "1630/1630 [==============================] - 14s 9ms/step - loss: 0.0192\n",
      "Epoch 79/100\n",
      "1630/1630 [==============================] - 17s 11ms/step - loss: 0.0201\n",
      "Epoch 80/100\n",
      "1630/1630 [==============================] - 17s 10ms/step - loss: 0.0149\n",
      "Epoch 81/100\n",
      "1630/1630 [==============================] - 17s 11ms/step - loss: 0.0109\n",
      "Epoch 82/100\n",
      "1630/1630 [==============================] - 17s 10ms/step - loss: 0.0121\n",
      "Epoch 83/100\n",
      "1630/1630 [==============================] - 18s 11ms/step - loss: 0.0126\n",
      "Epoch 84/100\n",
      "1630/1630 [==============================] - 17s 10ms/step - loss: 0.0218\n",
      "Epoch 85/100\n",
      "1630/1630 [==============================] - 17s 11ms/step - loss: 0.0253\n",
      "Epoch 86/100\n",
      "1630/1630 [==============================] - 17s 10ms/step - loss: 0.0523\n",
      "Epoch 87/100\n",
      "1630/1630 [==============================] - 18s 11ms/step - loss: 0.0331\n",
      "Epoch 88/100\n",
      "1630/1630 [==============================] - 16s 10ms/step - loss: 0.0148\n",
      "Epoch 89/100\n",
      "1630/1630 [==============================] - 17s 11ms/step - loss: 0.0131\n",
      "Epoch 90/100\n",
      "1630/1630 [==============================] - 17s 10ms/step - loss: 0.0216\n",
      "Epoch 91/100\n",
      "1630/1630 [==============================] - 17s 11ms/step - loss: 0.0135\n",
      "Epoch 92/100\n",
      "1630/1630 [==============================] - 17s 10ms/step - loss: 0.0201\n",
      "Epoch 93/100\n",
      "1630/1630 [==============================] - 17s 10ms/step - loss: 0.0123\n",
      "Epoch 94/100\n",
      "1630/1630 [==============================] - 17s 11ms/step - loss: 0.0241\n",
      "Epoch 95/100\n",
      "1630/1630 [==============================] - 17s 10ms/step - loss: 0.0173\n",
      "Epoch 96/100\n",
      "1630/1630 [==============================] - 17s 11ms/step - loss: 0.0197\n",
      "Epoch 97/100\n",
      "1630/1630 [==============================] - 17s 11ms/step - loss: 0.0288\n",
      "Epoch 98/100\n",
      "1630/1630 [==============================] - 17s 10ms/step - loss: 0.0209\n",
      "Epoch 99/100\n",
      "1630/1630 [==============================] - 17s 10ms/step - loss: 0.0301\n",
      "Epoch 100/100\n",
      "1630/1630 [==============================] - 17s 11ms/step - loss: 0.0235\n"
     ]
    },
    {
     "data": {
      "text/plain": [
       "<keras.callbacks.History at 0x7f38d813a908>"
      ]
     },
     "execution_count": 64,
     "metadata": {},
     "output_type": "execute_result"
    }
   ],
   "source": [
    "from keras.callbacks import ModelCheckpoint\n",
    "\n",
    "epochs = 100\n",
    "filepath = 'weights.music4.hdf5'\n",
    "checkpoint = ModelCheckpoint(filepath, monitor='loss', verbose=0, save_best_only=True)\n",
    "model.fit(network_input, network_output, epochs=epochs, batch_size=32, callbacks=[checkpoint])"
   ]
  },
  {
   "cell_type": "markdown",
   "metadata": {},
   "source": [
    "## 训练完成，开始生成音频"
   ]
  },
  {
   "cell_type": "code",
   "execution_count": 57,
   "metadata": {},
   "outputs": [],
   "source": [
    "# 从保存的数据中加载模型\n",
    "#with open('notes.pkl', 'rb') as filepath:\n",
    "#    notes = pickle.load(filepath)\n",
    "\n",
    "#print('Initiating music generation process.......')"
   ]
  },
  {
   "cell_type": "code",
   "execution_count": 65,
   "metadata": {},
   "outputs": [
    {
     "data": {
      "text/plain": [
       "(1630, 100, 1)"
      ]
     },
     "execution_count": 65,
     "metadata": {},
     "output_type": "execute_result"
    }
   ],
   "source": [
    "network_input.shape"
   ]
  },
  {
   "cell_type": "code",
   "execution_count": 66,
   "metadata": {},
   "outputs": [
    {
     "name": "stdout",
     "output_type": "stream",
     "text": [
      "start: 1495\n",
      "Generating notes........\n"
     ]
    }
   ],
   "source": [
    "start = np.random.randint(0, len(network_input)-1)  # 选择一个随机整数\n",
    "print(\"start:\", start)\n",
    "int_to_note = dict((number, note) for number, note in enumerate(pitchnames))\n",
    "\n",
    "# pick a random sequence from the input as a starting point for the prediction\n",
    "pattern = network_input[start]\n",
    "prediction_output = []\n",
    "\n",
    "print('Generating notes........')"
   ]
  },
  {
   "cell_type": "code",
   "execution_count": 67,
   "metadata": {},
   "outputs": [
    {
     "name": "stdout",
     "output_type": "stream",
     "text": [
      "pattern.shape: (100, 1)\n"
     ]
    },
    {
     "data": {
      "text/plain": [
       "array([[0.93670886],\n",
       "       [0.79746835],\n",
       "       [0.41772152],\n",
       "       [0.4556962 ],\n",
       "       [0.56962025],\n",
       "       [0.4556962 ],\n",
       "       [0.81012658],\n",
       "       [0.43037975],\n",
       "       [0.59493671],\n",
       "       [0.81012658]])"
      ]
     },
     "execution_count": 67,
     "metadata": {},
     "output_type": "execute_result"
    }
   ],
   "source": [
    "print(\"pattern.shape:\", pattern.shape)\n",
    "pattern[:10]"
   ]
  },
  {
   "cell_type": "code",
   "execution_count": 68,
   "metadata": {},
   "outputs": [
    {
     "name": "stdout",
     "output_type": "stream",
     "text": [
      "Notes Generated...\n"
     ]
    }
   ],
   "source": [
    "# 产生500个音符\n",
    "for note_index in range(500):\n",
    "    prediction_input = np.reshape(pattern, (1, len(pattern), 1))\n",
    "    prediction_input = prediction_input / float(n_vocab)\n",
    "\n",
    "    prediction = model.predict(prediction_input, verbose=0)\n",
    "\n",
    "    predict_index = np.argmax(prediction)  # Predicted output is the argmax(P(h|D))\n",
    "    result = int_to_note[predict_index]   # 返回整数标签对应的音符\n",
    "    prediction_output.append(result)\n",
    "\n",
    "    pattern = np.append(pattern, predict_index)\n",
    "    # Next input to the model\n",
    "    pattern = pattern[1:1+len(pattern)]\n",
    "\n",
    "print('Notes Generated...')"
   ]
  },
  {
   "cell_type": "code",
   "execution_count": 71,
   "metadata": {},
   "outputs": [
    {
     "data": {
      "text/plain": [
       "['G#5', 'G#5', 'G#5', 'G#5', 'G#5', 'G#5', 'G#5', 'G#5', 'G#5', 'G#5']"
      ]
     },
     "execution_count": 71,
     "metadata": {},
     "output_type": "execute_result"
    }
   ],
   "source": [
    "prediction_output[:10]"
   ]
  },
  {
   "cell_type": "code",
   "execution_count": 72,
   "metadata": {},
   "outputs": [
    {
     "name": "stdout",
     "output_type": "stream",
     "text": [
      "Saving Output file as midi....\n"
     ]
    },
    {
     "data": {
      "text/plain": [
       "'data/JJLin3.mid'"
      ]
     },
     "execution_count": 72,
     "metadata": {},
     "output_type": "execute_result"
    }
   ],
   "source": [
    "# 将预测值转换为音符并写入midi文件\n",
    "offset = 0\n",
    "output_notes = []\n",
    "\n",
    "# create note and chord objects based on the values generated by the model\n",
    "for pattern in prediction_output:\n",
    "    if ('.' in pattern) or pattern.isdigit():  # pattern是和弦\n",
    "        notes_in_chord = pattern.split('.')\n",
    "        notes = []\n",
    "        for current_note in notes_in_chord:\n",
    "            new_note = note.Note(int(current_note))\n",
    "            new_note.storedInstrument = instrument.Piano()   # 全是钢琴\n",
    "            notes.append(new_note)\n",
    "        new_chord = chord.Chord(notes)\n",
    "        new_chord.offset = offset\n",
    "        output_notes.append(new_chord)\n",
    "    else:  # pattern是一个音符\n",
    "        new_note = note.Note(pattern)\n",
    "        new_note.offset = offset\n",
    "        new_note.storedInstrument = instrument.Piano()  # 钢琴\n",
    "        output_notes.append(new_note)\n",
    "\n",
    "    # increase offset each iteration so that notes do not stack\n",
    "    offset += 0.5\n",
    "\n",
    "midi_stream = stream.Stream(output_notes)\n",
    "print('Saving Output file as midi....')\n",
    "midi_stream.write('midi', fp='data/JJLin3.mid')"
   ]
  },
  {
   "cell_type": "code",
   "execution_count": 18,
   "metadata": {},
   "outputs": [
    {
     "name": "stdout",
     "output_type": "stream",
     "text": [
      "File ./generated.mid not found! (/etc/timidity.cfg: No such file or directory)\n"
     ]
    }
   ],
   "source": [
    "### Play the Jazz music\n",
    "# play.play_midi('./generated.mid')"
   ]
  },
  {
   "cell_type": "code",
   "execution_count": null,
   "metadata": {},
   "outputs": [],
   "source": []
  }
 ],
 "metadata": {
  "kernelspec": {
   "display_name": "Python 3",
   "language": "python",
   "name": "python3"
  },
  "language_info": {
   "codemirror_mode": {
    "name": "ipython",
    "version": 3
   },
   "file_extension": ".py",
   "mimetype": "text/x-python",
   "name": "python",
   "nbconvert_exporter": "python",
   "pygments_lexer": "ipython3",
   "version": "3.6.4"
  }
 },
 "nbformat": 4,
 "nbformat_minor": 2
}
